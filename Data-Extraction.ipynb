{
 "cells": [
  {
   "cell_type": "code",
   "execution_count": 1,
   "metadata": {},
   "outputs": [],
   "source": [
    "from PyPDF2 import PdfFileReader"
   ]
  },
  {
   "cell_type": "code",
   "execution_count": 2,
   "metadata": {},
   "outputs": [
    {
     "name": "stdout",
     "output_type": "stream",
     "text": [
      "{'/Author': 'John', '/CreationDate': \"D:20140112140759-06'00'\", '/Creator': 'PScript5.dll Version 5.2.2', '/ModDate': \"D:20140112140759-06'00'\", '/Producer': 'Acrobat Distiller 9.5.5 (Windows)', '/Title': 'Microsoft Word - SE_Project_Report_Template.docx'}\n",
      "78\n"
     ]
    }
   ],
   "source": [
    "def get_info(path):\n",
    "    with open(path, 'rb') as f:\n",
    "        pdf = PdfFileReader(f)\n",
    "        info = pdf.getDocumentInfo()\n",
    "        number_of_pages = pdf.getNumPages()\n",
    "    print(info)\n",
    "    print(number_of_pages)\n",
    "    author = info.author\n",
    "    creator = info.creator\n",
    "    producer = info.producer\n",
    "    subject = info.subject\n",
    "    title = info.title\n",
    "if __name__ == '__main__':\n",
    "    path = 'SE_Project_Report_Template.pdf'\n",
    "    get_info(path)"
   ]
  },
  {
   "cell_type": "code",
   "execution_count": 5,
   "metadata": {},
   "outputs": [],
   "source": [
    "def text_extractor(path):\n",
    "    pdf_text = \"\"\n",
    "    with open(path, 'rb') as f:\n",
    "        pdf = PdfFileReader(f)\n",
    "        number_of_pages = pdf.getNumPages()\n",
    "        for i in range(11, number_of_pages):\n",
    "            # get the 11th page\n",
    "            page = pdf.getPage(i)\n",
    "            text = page.extractText()\n",
    "            pdf_text = pdf_text + text.replace(\"\\n\", \" \")\n",
    "            #pdf_text.append(text.replace(\"\\n\", \" \"))    \n",
    "        return pdf_text\n",
    "if __name__ == '__main__':\n",
    "    path = 'SE_Project_Report_Template.pdf'\n",
    "text = text_extractor(path)"
   ]
  },
  {
   "cell_type": "code",
   "execution_count": null,
   "metadata": {},
   "outputs": [],
   "source": []
  }
 ],
 "metadata": {
  "kernelspec": {
   "display_name": "Python 3",
   "language": "python",
   "name": "python3"
  },
  "language_info": {
   "codemirror_mode": {
    "name": "ipython",
    "version": 3
   },
   "file_extension": ".py",
   "mimetype": "text/x-python",
   "name": "python",
   "nbconvert_exporter": "python",
   "pygments_lexer": "ipython3",
   "version": "3.7.1"
  }
 },
 "nbformat": 4,
 "nbformat_minor": 2
}
