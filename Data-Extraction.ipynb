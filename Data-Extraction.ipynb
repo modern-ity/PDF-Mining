{
 "cells": [
  {
   "cell_type": "code",
   "execution_count": 1,
   "metadata": {},
   "outputs": [],
   "source": [
    "from PyPDF2 import PdfFileReader"
   ]
  },
  {
   "cell_type": "code",
   "execution_count": 2,
   "metadata": {},
   "outputs": [
    {
     "name": "stdout",
     "output_type": "stream",
     "text": [
      "{'/CreationDate': \"D:20140210124454-06'00'\", '/Creator': 'Adobe InDesign CS6 (Windows)', '/ModDate': \"D:20160225164221-06'00'\", '/Producer': 'Adobe PDF Library 10.0.1', '/Trapped': '/False'}\n",
      "13\n"
     ]
    }
   ],
   "source": [
    "def get_info(path):\n",
    "    with open(path, 'rb') as f:\n",
    "        pdf = PdfFileReader(f)\n",
    "        info = pdf.getDocumentInfo()\n",
    "        number_of_pages = pdf.getNumPages()\n",
    "    print(info)\n",
    "    print(number_of_pages)\n",
    "    author = info.author\n",
    "    creator = info.creator\n",
    "    producer = info.producer\n",
    "    subject = info.subject\n",
    "    title = info.title\n",
    "if __name__ == '__main__':\n",
    "    path = 'Professional Resume Format.pdf'\n",
    "    get_info(path)"
   ]
  },
  {
   "cell_type": "code",
   "execution_count": 8,
   "metadata": {},
   "outputs": [],
   "source": [
    "def text_extractor(path):\n",
    "    pdf_text = \"\"\n",
    "    with open(path, 'rb') as f:\n",
    "        pdf = PdfFileReader(f)\n",
    "        number_of_pages = pdf.getNumPages()\n",
    "        page = pdf.getPage(2)\n",
    "        text = page.extractText()\n",
    "        pagen = pdf.getPage(5)\n",
    "        textn = pagen.extractText()\n",
    "        pdf_text_2 = text.replace(\"\\n\", \" \")\n",
    "        pdf_textn = textn.replace(\"\\n\", \" \")\n",
    "        return pdf_text_2, pdf_textn\n",
    "if __name__ == '__main__':\n",
    "    path = 'Professional Resume Format.pdf'\n",
    "text1, text2 = text_extractor(path)"
   ]
  },
  {
   "cell_type": "code",
   "execution_count": 9,
   "metadata": {},
   "outputs": [
    {
     "data": {
      "text/plain": [
       "'Introduction to the  Professional Resume A wellŒcrafted, professional resume will open many doors and give you the best possible chance for getting an interview. Once you land the interview, then it™s up to you to land the job. So, resumes don™t get you the job, but  they are a critical element of the job search that leads to an offer. The staff at the Career Development Center at MTSU builds hundreds of resumes each year and also trains for resume writing by reviewing thousands of resumes written by professional resume writers.  We also listen to  feedback from recruiters and hiring managers.  Although you™ll find that just about everyone has a different opin-ion on how to write a resume, our goal is to help you create your own resume based on core principles so that  you™ll have a professional resume throughout the course of your career. So what exactly is a resume anyway? Let™s start with a basic definition. When you think about it, a resume is actually a marketing document that highlights your unique knowledge, skills, education, experience and achieve-ments that meet your target audience™s needs. A wellŒcrafted resume will accomplish several key outcomes for you:1.Highlight who you are and demonstrate how you can meet your hiring audience™s needs in simple yetdynamic language.2.Create interest from an employer to offer you an interview.3.Communicate your brand or what your competitive advantage is compared to other candidates.4.Demonstrate motivation and professionalism through commitment to creating a high quality marketing tool.5.Create a structure to help prepare you and the hiring manager for the interview.Are there other applications where a professional resume is important? Yes!1.Applications for graduate or professional school, fellowships, scholarships, proposals, grants and otheracademic merit awards.2.Promotions or other performance based programs with your current employer.3.Appointments to boards, panels and committees.Three key elements that you will need to master in crafting a professional resume are:1.Content: The actual word choice and phrasing should be concise yet descriptive and speak to the needsof your targeted hiring audience.2.Format: How the information is structured or organized to best present your content.3.Design: These elements include font type, font size, color, underline, bold or italic script, use of whitespace, graphics, and other tools outside of content.2'"
      ]
     },
     "execution_count": 9,
     "metadata": {},
     "output_type": "execute_result"
    }
   ],
   "source": [
    "text1"
   ]
  },
  {
   "cell_type": "code",
   "execution_count": 10,
   "metadata": {},
   "outputs": [
    {
     "data": {
      "text/plain": [
       "'FormatTake a look at the principles below to give your document effective format and design. Format has to do with the way your information is organized, while design deals with the many elements that will give your resume visual appeal. Format and design choices should be intentional and speak to your hiring audience. We like to use the word principles rather than rules because resume writing is a subjective process and many opinions exist. Our  advice is to always consider your hiring audience first and then utilize resume guides for tips and examples of how the professional resume is created.Principle #1 - Resume length. Consider limiting your resume to one page if you can describe your relevant and persuasive content within that frame. If you have a lot of content or you™re a seasoned professional with years of experience, you may need more than one page. What you don™t want is a partial page as this communicates an inability to be concise or that you lack content.Principle #2 - Eye catching name and contact information.You want your name and contact information to get your readers™ attention and be easy to read. However, try to  avoid using large graphics, photos, and gaudy font color.Principle #3 - Start your resume with a branding section.A branding section should come after your name and contact section. The focus should be on how you meet  your hiring audience™s needs in dynamic and concise language. The top third of your first page is critical in  getting your reader™s attention and encouraging them to read the rest of your resume. There are many ways to  construct a branding section but a proven method is to include a narrative summary of your career/preparation  and a list of core competencies/knowledge/skills.Principle #4 - Follow your branding section with an education section.For an upcoming graduate or recent graduate, it™s best to follow your branding with education rather than expe-rience. Even if you have significant experience, listing the education section first gives context to your present  status. Principle #5 - For experience use a reverse chronological format.For the vast majority of resumes, an experience section listed in reverse chronological format will work best. You  may choose to have two experience sections, one with related experience that highlights your relevant skills and  accomplishments.  The second experience section will show additional employment history that may not be as  relevant.  Other sections you might include in your format:1.Research2.Internships3.Volunteer Work 4.Leadership5.Laboratory Skills 6.Publications7.Professional Memberships 8.PresentationsStep 2 | Build your Document Structure : Format and Design build your document structure5'"
      ]
     },
     "execution_count": 10,
     "metadata": {},
     "output_type": "execute_result"
    }
   ],
   "source": [
    "text2"
   ]
  }
 ],
 "metadata": {
  "kernelspec": {
   "display_name": "Python 3",
   "language": "python",
   "name": "python3"
  },
  "language_info": {
   "codemirror_mode": {
    "name": "ipython",
    "version": 3
   },
   "file_extension": ".py",
   "mimetype": "text/x-python",
   "name": "python",
   "nbconvert_exporter": "python",
   "pygments_lexer": "ipython3",
   "version": "3.7.1"
  }
 },
 "nbformat": 4,
 "nbformat_minor": 2
}
